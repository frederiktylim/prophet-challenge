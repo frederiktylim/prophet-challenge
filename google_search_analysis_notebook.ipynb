{
 "cells": [
  {
   "cell_type": "markdown",
   "id": "cf1bad6a",
   "metadata": {},
   "source": [
    "# Step 1: Find Unusual Patterns in Hourly Google Search Traffic"
   ]
  },
  {
   "cell_type": "code",
   "execution_count": null,
   "id": "5e933809",
   "metadata": {},
   "outputs": [],
   "source": [
    "import pandas as pd\n",
    "import matplotlib.pyplot as plt\n",
    "\n",
    "# Read search data into DataFrame (replace with actual file path or file variable)\n",
    "search_data = pd.read_csv('/path_to_google_search_data.csv', parse_dates=True, index_col='date')\n",
    "\n",
    "# Slice data to May 2020\n",
    "may_2020_data = search_data.loc['2020-05']\n",
    "\n",
    "# Plot May 2020 data to visualize unusual patterns\n",
    "may_2020_data.plot(title=\"Google Search Traffic for May 2020\", figsize=(10,6))\n",
    "plt.show()\n",
    "\n",
    "# Calculate total traffic for May 2020\n",
    "total_traffic_may = may_2020_data['search_traffic'].sum()\n",
    "\n",
    "# Compare May traffic to median across all months\n",
    "monthly_median = search_data.resample('M').sum()['search_traffic'].median()\n",
    "\n",
    "# Print results\n",
    "print(f\"Total search traffic for May 2020: {total_traffic_may}\")\n",
    "print(f\"Monthly median search traffic: {monthly_median}\")\n",
    "\n",
    "# Analysis of traffic patterns:\n",
    "if total_traffic_may > monthly_median:\n",
    "    print(\"Google search traffic increased during the month that MercadoLibre released its financial results.\")\n",
    "else:\n",
    "    print(\"Google search traffic did not increase during the month of financial results.\")"
   ]
  },
  {
   "cell_type": "markdown",
   "id": "f63322e8",
   "metadata": {},
   "source": [
    "# Step 2: Mine the Search Traffic Data for Seasonality"
   ]
  },
  {
   "cell_type": "code",
   "execution_count": null,
   "id": "dd911837",
   "metadata": {},
   "outputs": [],
   "source": [
    "# Group by hour of day\n",
    "avg_hourly_traffic = search_data.groupby(search_data.index.hour).mean()['search_traffic']\n",
    "avg_hourly_traffic.plot(title=\"Average Hourly Google Search Traffic\", figsize=(10,6))\n",
    "plt.show()\n",
    "\n",
    "# Group by day of the week\n",
    "avg_daily_traffic = search_data.groupby(search_data.index.dayofweek).mean()['search_traffic']\n",
    "avg_daily_traffic.plot(title=\"Average Daily Google Search Traffic\", figsize=(10,6))\n",
    "plt.show()\n",
    "\n",
    "# Group by week of the year\n",
    "avg_weekly_traffic = search_data.groupby(search_data.index.week).mean()['search_traffic']\n",
    "avg_weekly_traffic.plot(title=\"Average Weekly Google Search Traffic\", figsize=(10,6))\n",
    "plt.show()\n",
    "\n",
    "# Analysis:\n",
    "# Based on the plots, check if any trends exist (by hour, day of week, or week of the year)."
   ]
  },
  {
   "cell_type": "markdown",
   "id": "f2c94c02",
   "metadata": {},
   "source": [
    "# Step 3: Relate the Search Traffic to Stock Price Patterns"
   ]
  },
  {
   "cell_type": "code",
   "execution_count": null,
   "id": "6c0883e1",
   "metadata": {},
   "outputs": [],
   "source": [
    "# Read stock price data into DataFrame (replace with actual file path or file variable)\n",
    "stock_data = pd.read_csv('/path_to_stock_price_data.csv', parse_dates=True, index_col='date')\n",
    "\n",
    "# Concatenate stock and search data into one DataFrame\n",
    "combined_data = pd.concat([search_data['search_traffic'], stock_data], axis=1)\n",
    "\n",
    "# Slice data to the first half of 2020\n",
    "first_half_2020 = combined_data.loc['2020-01':'2020-06']\n",
    "\n",
    "# Plot search traffic and stock price for the first half of 2020\n",
    "fig, ax1 = plt.subplots(figsize=(10,6))\n",
    "\n",
    "ax1.plot(first_half_2020.index, first_half_2020['search_traffic'], color='tab:blue', label='Search Traffic')\n",
    "ax2 = ax1.twinx()\n",
    "ax2.plot(first_half_2020.index, first_half_2020['stock_price'], color='tab:red', label='Stock Price')\n",
    "\n",
    "ax1.set_xlabel('Date')\n",
    "ax1.set_ylabel('Search Traffic', color='tab:blue')\n",
    "ax2.set_ylabel('Stock Price', color='tab:red')\n",
    "\n",
    "plt.title('Google Search Traffic and Stock Price (Jan to Jun 2020)')\n",
    "plt.show()\n",
    "\n",
    "# Create Lagged Search Trends\n",
    "combined_data['Lagged_Search_Traffic'] = combined_data['search_traffic'].shift(1)\n",
    "\n",
    "# Create Stock Volatility (4-hour exponentially weighted rolling average)\n",
    "combined_data['Stock_Volatility'] = combined_data['stock_price'].ewm(span=4).std()\n",
    "\n",
    "# Create Hourly Stock Return (percent change)\n",
    "combined_data['Hourly_Stock_Return'] = combined_data['stock_price'].pct_change()\n",
    "\n",
    "# Display head of combined data\n",
    "combined_data.head()"
   ]
  },
  {
   "cell_type": "markdown",
   "id": "f578cb0f",
   "metadata": {},
   "source": [
    "# Step 4: Create a Time Series Model with Prophet"
   ]
  },
  {
   "cell_type": "code",
   "execution_count": null,
   "id": "84e07763",
   "metadata": {},
   "outputs": [],
   "source": [
    "from fbprophet import Prophet\n",
    "\n",
    "# Prepare data for Prophet\n",
    "prophet_data = search_data.reset_index()[['date', 'search_traffic']].rename(columns={'date': 'ds', 'search_traffic': 'y'})\n",
    "\n",
    "# Initialize and fit the Prophet model\n",
    "model = Prophet()\n",
    "model.fit(prophet_data)\n",
    "\n",
    "# Create a future dataframe\n",
    "future = model.make_future_dataframe(periods=365, freq='H')\n",
    "\n",
    "# Predict future search traffic\n",
    "forecast = model.predict(future)\n",
    "\n",
    "# Plot the forecast\n",
    "model.plot(forecast)\n",
    "plt.title('Prophet Forecast of Google Search Traffic')\n",
    "plt.show()\n",
    "\n",
    "# Plot the individual components of the model\n",
    "model.plot_components(forecast)\n",
    "plt.show()\n",
    "\n",
    "# Analysis:\n",
    "# Answer questions regarding time of day, day of the week, and lowest point of search traffic."
   ]
  }
 ],
 "metadata": {},
 "nbformat": 4,
 "nbformat_minor": 5
}
